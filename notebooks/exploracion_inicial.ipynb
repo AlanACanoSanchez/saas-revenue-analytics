{
 "cells": [
  {
   "cell_type": "markdown",
   "id": "340dca76",
   "metadata": {},
   "source": [
    "#  Limpieza de Datos - SaaS Revenue Analytics\n",
    "\n",
    "Este notebook contiene el proceso de exploración y limpieza de datos para un proyecto de análisis financiero de una empresa SaaS (Software as a Service).\n",
    "\n",
    "## 📁 Datasets Utilizados\n",
    "\n",
    "Se trabajó con 4 archivos CSV:\n",
    "\n",
    "- `users.csv`: Información básica de usuarios (país, fecha de registro).\n",
    "- `subscriptions.csv`: Detalles del plan contratado, precio mensual y duración.\n",
    "- `payments.csv`: Historial de pagos mensuales realizados.\n",
    "- `churn.csv`: Cancelaciones de suscripciones y sus razones.\n",
    "\n",
    "## ✅ Pasos realizados\n",
    "\n",
    "- Revisión y conversión de tipos de datos (fechas, numéricos, strings).\n",
    "- Validación de llaves y referencias entre tablas (UserID).\n",
    "- Detección y tratamiento de fechas inválidas.\n",
    "- Identificación de usuarios sin pagos o sin suscripciones.\n",
    "- Eliminación de registros inconsistentes.\n",
    "- Guardado de datasets limpios en la carpeta `data/`.\n",
    "\n",
    "> Esta limpieza permite construir una tabla de hechos robusta para análisis posteriores usando PySpark.\n"
   ]
  },
  {
   "cell_type": "code",
   "execution_count": 1,
   "id": "b28a4ed8",
   "metadata": {},
   "outputs": [
    {
     "data": {
      "text/html": [
       "<div>\n",
       "<style scoped>\n",
       "    .dataframe tbody tr th:only-of-type {\n",
       "        vertical-align: middle;\n",
       "    }\n",
       "\n",
       "    .dataframe tbody tr th {\n",
       "        vertical-align: top;\n",
       "    }\n",
       "\n",
       "    .dataframe thead th {\n",
       "        text-align: right;\n",
       "    }\n",
       "</style>\n",
       "<table border=\"1\" class=\"dataframe\">\n",
       "  <thead>\n",
       "    <tr style=\"text-align: right;\">\n",
       "      <th></th>\n",
       "      <th>UserID</th>\n",
       "      <th>Country</th>\n",
       "      <th>RegistrationDate</th>\n",
       "    </tr>\n",
       "  </thead>\n",
       "  <tbody>\n",
       "    <tr>\n",
       "      <th>0</th>\n",
       "      <td>U0001</td>\n",
       "      <td>India</td>\n",
       "      <td>2022-10-25</td>\n",
       "    </tr>\n",
       "    <tr>\n",
       "      <th>1</th>\n",
       "      <td>U0002</td>\n",
       "      <td>Brazil</td>\n",
       "      <td>2022-01-18</td>\n",
       "    </tr>\n",
       "    <tr>\n",
       "      <th>2</th>\n",
       "      <td>U0003</td>\n",
       "      <td>India</td>\n",
       "      <td>2022-10-17</td>\n",
       "    </tr>\n",
       "    <tr>\n",
       "      <th>3</th>\n",
       "      <td>U0004</td>\n",
       "      <td>Spain</td>\n",
       "      <td>2022-05-17</td>\n",
       "    </tr>\n",
       "    <tr>\n",
       "      <th>4</th>\n",
       "      <td>U0005</td>\n",
       "      <td>USA</td>\n",
       "      <td>2022-03-01</td>\n",
       "    </tr>\n",
       "  </tbody>\n",
       "</table>\n",
       "</div>"
      ],
      "text/plain": [
       "  UserID Country RegistrationDate\n",
       "0  U0001   India       2022-10-25\n",
       "1  U0002  Brazil       2022-01-18\n",
       "2  U0003   India       2022-10-17\n",
       "3  U0004   Spain       2022-05-17\n",
       "4  U0005     USA       2022-03-01"
      ]
     },
     "metadata": {},
     "output_type": "display_data"
    },
    {
     "data": {
      "text/html": [
       "<div>\n",
       "<style scoped>\n",
       "    .dataframe tbody tr th:only-of-type {\n",
       "        vertical-align: middle;\n",
       "    }\n",
       "\n",
       "    .dataframe tbody tr th {\n",
       "        vertical-align: top;\n",
       "    }\n",
       "\n",
       "    .dataframe thead th {\n",
       "        text-align: right;\n",
       "    }\n",
       "</style>\n",
       "<table border=\"1\" class=\"dataframe\">\n",
       "  <thead>\n",
       "    <tr style=\"text-align: right;\">\n",
       "      <th></th>\n",
       "      <th>UserID</th>\n",
       "      <th>Plan</th>\n",
       "      <th>DurationMonths</th>\n",
       "      <th>MonthlyPrice</th>\n",
       "      <th>StartDate</th>\n",
       "    </tr>\n",
       "  </thead>\n",
       "  <tbody>\n",
       "    <tr>\n",
       "      <th>0</th>\n",
       "      <td>U0001</td>\n",
       "      <td>Premium</td>\n",
       "      <td>12</td>\n",
       "      <td>30</td>\n",
       "      <td>2022-01-14</td>\n",
       "    </tr>\n",
       "    <tr>\n",
       "      <th>1</th>\n",
       "      <td>U0002</td>\n",
       "      <td>Standard</td>\n",
       "      <td>3</td>\n",
       "      <td>20</td>\n",
       "      <td>2022-08-25</td>\n",
       "    </tr>\n",
       "    <tr>\n",
       "      <th>2</th>\n",
       "      <td>U0003</td>\n",
       "      <td>Standard</td>\n",
       "      <td>1</td>\n",
       "      <td>20</td>\n",
       "      <td>2022-10-08</td>\n",
       "    </tr>\n",
       "    <tr>\n",
       "      <th>3</th>\n",
       "      <td>U0004</td>\n",
       "      <td>Basic</td>\n",
       "      <td>3</td>\n",
       "      <td>10</td>\n",
       "      <td>2022-08-27</td>\n",
       "    </tr>\n",
       "    <tr>\n",
       "      <th>4</th>\n",
       "      <td>U0005</td>\n",
       "      <td>Basic</td>\n",
       "      <td>12</td>\n",
       "      <td>10</td>\n",
       "      <td>2022-03-05</td>\n",
       "    </tr>\n",
       "  </tbody>\n",
       "</table>\n",
       "</div>"
      ],
      "text/plain": [
       "  UserID      Plan  DurationMonths  MonthlyPrice   StartDate\n",
       "0  U0001   Premium              12            30  2022-01-14\n",
       "1  U0002  Standard               3            20  2022-08-25\n",
       "2  U0003  Standard               1            20  2022-10-08\n",
       "3  U0004     Basic               3            10  2022-08-27\n",
       "4  U0005     Basic              12            10  2022-03-05"
      ]
     },
     "metadata": {},
     "output_type": "display_data"
    },
    {
     "data": {
      "text/html": [
       "<div>\n",
       "<style scoped>\n",
       "    .dataframe tbody tr th:only-of-type {\n",
       "        vertical-align: middle;\n",
       "    }\n",
       "\n",
       "    .dataframe tbody tr th {\n",
       "        vertical-align: top;\n",
       "    }\n",
       "\n",
       "    .dataframe thead th {\n",
       "        text-align: right;\n",
       "    }\n",
       "</style>\n",
       "<table border=\"1\" class=\"dataframe\">\n",
       "  <thead>\n",
       "    <tr style=\"text-align: right;\">\n",
       "      <th></th>\n",
       "      <th>UserID</th>\n",
       "      <th>PaymentDate</th>\n",
       "      <th>Amount</th>\n",
       "      <th>PaymentMethod</th>\n",
       "    </tr>\n",
       "  </thead>\n",
       "  <tbody>\n",
       "    <tr>\n",
       "      <th>0</th>\n",
       "      <td>U0001</td>\n",
       "      <td>2022-01-14</td>\n",
       "      <td>30</td>\n",
       "      <td>PayPal</td>\n",
       "    </tr>\n",
       "    <tr>\n",
       "      <th>1</th>\n",
       "      <td>U0001</td>\n",
       "      <td>2022-02-14</td>\n",
       "      <td>30</td>\n",
       "      <td>Credit Card</td>\n",
       "    </tr>\n",
       "    <tr>\n",
       "      <th>2</th>\n",
       "      <td>U0001</td>\n",
       "      <td>2022-03-14</td>\n",
       "      <td>30</td>\n",
       "      <td>Credit Card</td>\n",
       "    </tr>\n",
       "    <tr>\n",
       "      <th>3</th>\n",
       "      <td>U0001</td>\n",
       "      <td>2022-04-14</td>\n",
       "      <td>30</td>\n",
       "      <td>Bank Transfer</td>\n",
       "    </tr>\n",
       "    <tr>\n",
       "      <th>4</th>\n",
       "      <td>U0001</td>\n",
       "      <td>2022-05-14</td>\n",
       "      <td>30</td>\n",
       "      <td>PayPal</td>\n",
       "    </tr>\n",
       "  </tbody>\n",
       "</table>\n",
       "</div>"
      ],
      "text/plain": [
       "  UserID PaymentDate  Amount  PaymentMethod\n",
       "0  U0001  2022-01-14      30         PayPal\n",
       "1  U0001  2022-02-14      30    Credit Card\n",
       "2  U0001  2022-03-14      30    Credit Card\n",
       "3  U0001  2022-04-14      30  Bank Transfer\n",
       "4  U0001  2022-05-14      30         PayPal"
      ]
     },
     "metadata": {},
     "output_type": "display_data"
    },
    {
     "data": {
      "text/html": [
       "<div>\n",
       "<style scoped>\n",
       "    .dataframe tbody tr th:only-of-type {\n",
       "        vertical-align: middle;\n",
       "    }\n",
       "\n",
       "    .dataframe tbody tr th {\n",
       "        vertical-align: top;\n",
       "    }\n",
       "\n",
       "    .dataframe thead th {\n",
       "        text-align: right;\n",
       "    }\n",
       "</style>\n",
       "<table border=\"1\" class=\"dataframe\">\n",
       "  <thead>\n",
       "    <tr style=\"text-align: right;\">\n",
       "      <th></th>\n",
       "      <th>UserID</th>\n",
       "      <th>ChurnDate</th>\n",
       "      <th>ChurnReason</th>\n",
       "    </tr>\n",
       "  </thead>\n",
       "  <tbody>\n",
       "    <tr>\n",
       "      <th>0</th>\n",
       "      <td>U0002</td>\n",
       "      <td>2022-09-30</td>\n",
       "      <td>Not useful</td>\n",
       "    </tr>\n",
       "    <tr>\n",
       "      <th>1</th>\n",
       "      <td>U0009</td>\n",
       "      <td>2023-01-03</td>\n",
       "      <td>Too expensive</td>\n",
       "    </tr>\n",
       "    <tr>\n",
       "      <th>2</th>\n",
       "      <td>U0010</td>\n",
       "      <td>2022-05-18</td>\n",
       "      <td>Too expensive</td>\n",
       "    </tr>\n",
       "    <tr>\n",
       "      <th>3</th>\n",
       "      <td>U0011</td>\n",
       "      <td>2022-09-07</td>\n",
       "      <td>Other</td>\n",
       "    </tr>\n",
       "    <tr>\n",
       "      <th>4</th>\n",
       "      <td>U0012</td>\n",
       "      <td>2022-07-12</td>\n",
       "      <td>Other</td>\n",
       "    </tr>\n",
       "  </tbody>\n",
       "</table>\n",
       "</div>"
      ],
      "text/plain": [
       "  UserID   ChurnDate    ChurnReason\n",
       "0  U0002  2022-09-30     Not useful\n",
       "1  U0009  2023-01-03  Too expensive\n",
       "2  U0010  2022-05-18  Too expensive\n",
       "3  U0011  2022-09-07          Other\n",
       "4  U0012  2022-07-12          Other"
      ]
     },
     "metadata": {},
     "output_type": "display_data"
    }
   ],
   "source": [
    "import pandas as pd\n",
    "\n",
    "# Cargar los datos\n",
    "df_users = pd.read_csv(\"../data/users.csv\")\n",
    "df_subs = pd.read_csv(\"../data/subscriptions.csv\")\n",
    "df_payments = pd.read_csv(\"../data/payments.csv\")\n",
    "df_churn = pd.read_csv(\"../data/churn.csv\")\n",
    "\n",
    "# Mostrar primeras filas\n",
    "display(df_users.head())\n",
    "display(df_subs.head())\n",
    "display(df_payments.head())\n",
    "display(df_churn.head())\n"
   ]
  },
  {
   "cell_type": "code",
   "execution_count": 2,
   "id": "6793c9c9",
   "metadata": {},
   "outputs": [
    {
     "name": "stdout",
     "output_type": "stream",
     "text": [
      "USERS\n",
      "UserID              0\n",
      "Country             0\n",
      "RegistrationDate    0\n",
      "dtype: int64\n",
      "\n",
      "----------------------\n",
      "\n",
      "SUBSCRIPTIONS\n",
      "UserID            0\n",
      "Plan              0\n",
      "DurationMonths    0\n",
      "MonthlyPrice      0\n",
      "StartDate         0\n",
      "dtype: int64\n",
      "\n",
      "----------------------\n",
      "\n",
      "PAYMENTS\n",
      "UserID           0\n",
      "PaymentDate      0\n",
      "Amount           0\n",
      "PaymentMethod    0\n",
      "dtype: int64\n",
      "\n",
      "----------------------\n",
      "\n",
      "CHURN\n",
      "UserID         0\n",
      "ChurnDate      0\n",
      "ChurnReason    0\n",
      "dtype: int64\n"
     ]
    }
   ],
   "source": [
    "# Revisar valores nulos en todos los datasets\n",
    "\n",
    "print(\"USERS\")\n",
    "print(df_users.isnull().sum())\n",
    "print(\"\\n----------------------\\n\")\n",
    "\n",
    "print(\"SUBSCRIPTIONS\")\n",
    "print(df_subs.isnull().sum())\n",
    "print(\"\\n----------------------\\n\")\n",
    "\n",
    "print(\"PAYMENTS\")\n",
    "print(df_payments.isnull().sum())\n",
    "print(\"\\n----------------------\\n\")\n",
    "\n",
    "print(\"CHURN\")\n",
    "print(df_churn.isnull().sum())\n"
   ]
  },
  {
   "cell_type": "code",
   "execution_count": 7,
   "id": "4297189a",
   "metadata": {},
   "outputs": [
    {
     "name": "stdout",
     "output_type": "stream",
     "text": [
      "USERS\n",
      "<class 'pandas.core.frame.DataFrame'>\n",
      "RangeIndex: 500 entries, 0 to 499\n",
      "Data columns (total 3 columns):\n",
      " #   Column            Non-Null Count  Dtype \n",
      "---  ------            --------------  ----- \n",
      " 0   UserID            500 non-null    object\n",
      " 1   Country           500 non-null    object\n",
      " 2   RegistrationDate  500 non-null    object\n",
      "dtypes: object(3)\n",
      "memory usage: 11.8+ KB\n",
      "None\n",
      "\n",
      "----------------------\n",
      "\n"
     ]
    }
   ],
   "source": [
    "\n",
    "print(\"USERS\")\n",
    "print(df_users.info())\n",
    "print(\"\\n----------------------\\n\")\n"
   ]
  },
  {
   "cell_type": "code",
   "execution_count": 4,
   "id": "e957f6fd",
   "metadata": {},
   "outputs": [
    {
     "name": "stdout",
     "output_type": "stream",
     "text": [
      "SUBSCRIPTIONS\n",
      "<class 'pandas.core.frame.DataFrame'>\n",
      "RangeIndex: 500 entries, 0 to 499\n",
      "Data columns (total 5 columns):\n",
      " #   Column          Non-Null Count  Dtype \n",
      "---  ------          --------------  ----- \n",
      " 0   UserID          500 non-null    object\n",
      " 1   Plan            500 non-null    object\n",
      " 2   DurationMonths  500 non-null    int64 \n",
      " 3   MonthlyPrice    500 non-null    int64 \n",
      " 4   StartDate       500 non-null    object\n",
      "dtypes: int64(2), object(3)\n",
      "memory usage: 19.7+ KB\n",
      "None\n",
      "\n",
      "----------------------\n",
      "\n"
     ]
    }
   ],
   "source": [
    "\n",
    "print(\"SUBSCRIPTIONS\")\n",
    "print(df_subs.info())\n",
    "print(\"\\n----------------------\\n\")\n"
   ]
  },
  {
   "cell_type": "code",
   "execution_count": 5,
   "id": "89b746f7",
   "metadata": {},
   "outputs": [
    {
     "name": "stdout",
     "output_type": "stream",
     "text": [
      "PAYMENTS\n",
      "<class 'pandas.core.frame.DataFrame'>\n",
      "RangeIndex: 2860 entries, 0 to 2859\n",
      "Data columns (total 4 columns):\n",
      " #   Column         Non-Null Count  Dtype \n",
      "---  ------         --------------  ----- \n",
      " 0   UserID         2860 non-null   object\n",
      " 1   PaymentDate    2860 non-null   object\n",
      " 2   Amount         2860 non-null   int64 \n",
      " 3   PaymentMethod  2860 non-null   object\n",
      "dtypes: int64(1), object(3)\n",
      "memory usage: 89.5+ KB\n",
      "None\n",
      "\n",
      "----------------------\n",
      "\n"
     ]
    }
   ],
   "source": [
    "print(\"PAYMENTS\")\n",
    "print(df_payments.info())\n",
    "print(\"\\n----------------------\\n\")"
   ]
  },
  {
   "cell_type": "code",
   "execution_count": 6,
   "id": "00e27d07",
   "metadata": {},
   "outputs": [
    {
     "name": "stdout",
     "output_type": "stream",
     "text": [
      "CHURN\n",
      "<class 'pandas.core.frame.DataFrame'>\n",
      "RangeIndex: 112 entries, 0 to 111\n",
      "Data columns (total 3 columns):\n",
      " #   Column       Non-Null Count  Dtype \n",
      "---  ------       --------------  ----- \n",
      " 0   UserID       112 non-null    object\n",
      " 1   ChurnDate    112 non-null    object\n",
      " 2   ChurnReason  112 non-null    object\n",
      "dtypes: object(3)\n",
      "memory usage: 2.8+ KB\n",
      "None\n"
     ]
    }
   ],
   "source": [
    "print(\"CHURN\")\n",
    "print(df_churn.info())"
   ]
  },
  {
   "cell_type": "code",
   "execution_count": 8,
   "id": "35928cd9",
   "metadata": {},
   "outputs": [
    {
     "name": "stdout",
     "output_type": "stream",
     "text": [
      "UserID                      object\n",
      "Country                     object\n",
      "RegistrationDate    datetime64[ns]\n",
      "dtype: object\n",
      "UserID                    object\n",
      "Plan                      object\n",
      "DurationMonths             int64\n",
      "MonthlyPrice               int64\n",
      "StartDate         datetime64[ns]\n",
      "dtype: object\n",
      "UserID                   object\n",
      "PaymentDate      datetime64[ns]\n",
      "Amount                    int64\n",
      "PaymentMethod            object\n",
      "dtype: object\n",
      "UserID                 object\n",
      "ChurnDate      datetime64[ns]\n",
      "ChurnReason            object\n",
      "dtype: object\n"
     ]
    }
   ],
   "source": [
    "# Convertir columnas de fecha a tipo datetime\n",
    "df_users[\"RegistrationDate\"] = pd.to_datetime(df_users[\"RegistrationDate\"], errors=\"coerce\")\n",
    "df_subs[\"StartDate\"] = pd.to_datetime(df_subs[\"StartDate\"], errors=\"coerce\")\n",
    "df_payments[\"PaymentDate\"] = pd.to_datetime(df_payments[\"PaymentDate\"], errors=\"coerce\")\n",
    "df_churn[\"ChurnDate\"] = pd.to_datetime(df_churn[\"ChurnDate\"], errors=\"coerce\")\n",
    "\n",
    "# Verificamos los tipos de datos\n",
    "print(df_users.dtypes)\n",
    "print(df_subs.dtypes)\n",
    "print(df_payments.dtypes)\n",
    "print(df_churn.dtypes)\n"
   ]
  },
  {
   "cell_type": "code",
   "execution_count": 9,
   "id": "6454aa8b",
   "metadata": {},
   "outputs": [
    {
     "name": "stdout",
     "output_type": "stream",
     "text": [
      "Duplicados en users.csv: 0\n",
      "Duplicados en payments.csv: 0\n",
      "Duplicados en subscriptions.csv: 0\n"
     ]
    }
   ],
   "source": [
    "# USERS: duplicados por UserID\n",
    "dup_users = df_users.duplicated(subset='UserID').sum()\n",
    "print(f\"Duplicados en users.csv: {dup_users}\")\n",
    "\n",
    "# PAYMENTS: duplicados por UserID + PaymentDate\n",
    "dup_payments = df_payments.duplicated(subset=['UserID', 'PaymentDate']).sum()\n",
    "print(f\"Duplicados en payments.csv: {dup_payments}\")\n",
    "\n",
    "# SUBSCRIPTIONS: duplicados por UserID\n",
    "dup_subs = df_subs.duplicated(subset='UserID').sum()\n",
    "print(f\"Duplicados en subscriptions.csv: {dup_subs}\")\n"
   ]
  },
  {
   "cell_type": "code",
   "execution_count": 10,
   "id": "01e98187",
   "metadata": {},
   "outputs": [],
   "source": [
    "df_subs[\"MonthlyPrice\"] = df_subs[\"MonthlyPrice\"].astype(float)\n",
    "df_payments[\"Amount\"] = df_payments[\"Amount\"].astype(float)\n"
   ]
  },
  {
   "cell_type": "code",
   "execution_count": 11,
   "id": "ecbebfb4",
   "metadata": {},
   "outputs": [
    {
     "name": "stdout",
     "output_type": "stream",
     "text": [
      "<class 'pandas.core.frame.DataFrame'>\n",
      "RangeIndex: 500 entries, 0 to 499\n",
      "Data columns (total 5 columns):\n",
      " #   Column          Non-Null Count  Dtype         \n",
      "---  ------          --------------  -----         \n",
      " 0   UserID          500 non-null    object        \n",
      " 1   Plan            500 non-null    object        \n",
      " 2   DurationMonths  500 non-null    int64         \n",
      " 3   MonthlyPrice    500 non-null    float64       \n",
      " 4   StartDate       500 non-null    datetime64[ns]\n",
      "dtypes: datetime64[ns](1), float64(1), int64(1), object(2)\n",
      "memory usage: 19.7+ KB\n"
     ]
    }
   ],
   "source": [
    "df_subs.info()"
   ]
  },
  {
   "cell_type": "code",
   "execution_count": 12,
   "id": "1828df9b",
   "metadata": {},
   "outputs": [
    {
     "name": "stdout",
     "output_type": "stream",
     "text": [
      "<class 'pandas.core.frame.DataFrame'>\n",
      "RangeIndex: 2860 entries, 0 to 2859\n",
      "Data columns (total 4 columns):\n",
      " #   Column         Non-Null Count  Dtype         \n",
      "---  ------         --------------  -----         \n",
      " 0   UserID         2860 non-null   object        \n",
      " 1   PaymentDate    2860 non-null   datetime64[ns]\n",
      " 2   Amount         2860 non-null   float64       \n",
      " 3   PaymentMethod  2860 non-null   object        \n",
      "dtypes: datetime64[ns](1), float64(1), object(2)\n",
      "memory usage: 89.5+ KB\n"
     ]
    }
   ],
   "source": [
    "df_payments.info()"
   ]
  },
  {
   "cell_type": "code",
   "execution_count": 13,
   "id": "43d6408b",
   "metadata": {},
   "outputs": [
    {
     "name": "stdout",
     "output_type": "stream",
     "text": [
      "Subscriptions sin usuario asociado: 0\n",
      "Payments sin usuario asociado: 0\n",
      "Churn sin usuario asociado: 0\n"
     ]
    }
   ],
   "source": [
    "# Convertimos todos los IDs a string por seguridad\n",
    "df_users['UserID'] = df_users['UserID'].astype(str)\n",
    "df_subs['UserID'] = df_subs['UserID'].astype(str)\n",
    "df_payments['UserID'] = df_payments['UserID'].astype(str)\n",
    "df_churn['UserID'] = df_churn['UserID'].astype(str)\n",
    "\n",
    "# Subscriptions sin usuario en users\n",
    "subs_huerfanos = df_subs[~df_subs['UserID'].isin(df_users['UserID'])]\n",
    "print(f\"Subscriptions sin usuario asociado: {len(subs_huerfanos)}\")\n",
    "\n",
    "# Payments sin usuario en users\n",
    "payments_huerfanos = df_payments[~df_payments['UserID'].isin(df_users['UserID'])]\n",
    "print(f\"Payments sin usuario asociado: {len(payments_huerfanos)}\")\n",
    "\n",
    "# Churn sin usuario en users\n",
    "churn_huerfanos = df_churn[~df_churn['UserID'].isin(df_users['UserID'])]\n",
    "print(f\"Churn sin usuario asociado: {len(churn_huerfanos)}\")\n"
   ]
  },
  {
   "cell_type": "code",
   "execution_count": 14,
   "id": "d17062d4",
   "metadata": {},
   "outputs": [
    {
     "name": "stdout",
     "output_type": "stream",
     "text": [
      "Usuarios con StartDate anterior a RegistrationDate: 249\n",
      "    UserID RegistrationDate  StartDate\n",
      "0    U0001       2022-10-25 2022-01-14\n",
      "2    U0003       2022-10-17 2022-10-08\n",
      "6    U0007       2022-12-09 2022-08-29\n",
      "7    U0008       2022-03-23 2022-01-02\n",
      "8    U0009       2022-11-03 2022-01-04\n",
      "..     ...              ...        ...\n",
      "493  U0494       2022-07-30 2022-03-24\n",
      "496  U0497       2022-07-03 2022-02-10\n",
      "497  U0498       2022-05-18 2022-01-31\n",
      "498  U0499       2022-03-21 2022-01-28\n",
      "499  U0500       2022-05-10 2022-04-26\n",
      "\n",
      "[249 rows x 3 columns]\n"
     ]
    }
   ],
   "source": [
    "# Asegurarse de que los IDs estén como string\n",
    "df_users['UserID'] = df_users['UserID'].astype(str)\n",
    "df_subs['UserID'] = df_subs['UserID'].astype(str)\n",
    "\n",
    "# Unir users con subscriptions por UserID\n",
    "merged_df = pd.merge(df_subs, df_users, on='UserID', how='left')\n",
    "\n",
    "# Filtrar registros donde StartDate sea anterior a la fecha de registro\n",
    "fechas_invalidas = merged_df[merged_df['StartDate'] < merged_df['RegistrationDate']]\n",
    "\n",
    "# Mostrar resultados\n",
    "print(f\"Usuarios con StartDate anterior a RegistrationDate: {len(fechas_invalidas)}\")\n",
    "print(fechas_invalidas[['UserID', 'RegistrationDate', 'StartDate']])\n"
   ]
  },
  {
   "cell_type": "code",
   "execution_count": 17,
   "id": "3e9bcf32",
   "metadata": {},
   "outputs": [],
   "source": [
    "# Crear una copia para no alterar el original de inmediato\n",
    "df_users_corr = df_users.copy()\n",
    "\n",
    "# Unimos la fecha de inicio de suscripción por usuario\n",
    "df_users_corr = df_users_corr.merge(\n",
    "    df_subs[['UserID', 'StartDate']],\n",
    "    on='UserID',\n",
    "    how='left',\n",
    "    suffixes=('', '')\n",
    ")\n",
    "\n",
    "# Corregimos la RegistrationDate si StartDate es menor\n",
    "df_users_corr['RegistrationDate'] = df_users_corr[['RegistrationDate', 'StartDate']].min(axis=1)\n",
    "\n",
    "# Eliminamos columna auxiliar\n",
    "df_users_corr.drop(columns='StartDate', inplace=True)\n",
    "\n",
    "# Reemplazamos el dataframe original por el corregido\n",
    "df_users = df_users_corr\n"
   ]
  },
  {
   "cell_type": "code",
   "execution_count": null,
   "id": "2ebd25c5",
   "metadata": {},
   "outputs": [
    {
     "name": "stdout",
     "output_type": "stream",
     "text": [
      "Usuarios con StartDate anterior a RegistrationDate: 0\n",
      "Empty DataFrame\n",
      "Columns: [UserID, RegistrationDate, StartDate]\n",
      "Index: []\n"
     ]
    }
   ],
   "source": [
    "# Asegurarse de que los IDs estén como string\n",
    "df_users['UserID'] = df_users['UserID'].astype(str)\n",
    "df_subs['UserID'] = df_subs['UserID'].astype(str)\n",
    "\n",
    "# Unir users con subscriptions por UserID\n",
    "merged_df = pd.merge(df_subs, df_users, on='UserID', how='left')\n",
    "\n",
    "# Filtrar registros donde StartDate sea anterior a la fecha de registro\n",
    "fechas_invalidas = merged_df[merged_df['PaymentMethod'] < merged_df['StartDate']]\n",
    "\n",
    "# Mostrar resultados\n",
    "print(f\"Usuarios con StartDate anterior a RegistrationDate: {len(fechas_invalidas)}\")\n",
    "print(fechas_invalidas[['UserID', 'RegistrationDate', 'StartDate']])\n"
   ]
  },
  {
   "cell_type": "code",
   "execution_count": 19,
   "id": "d7824e93",
   "metadata": {},
   "outputs": [
    {
     "name": "stdout",
     "output_type": "stream",
     "text": [
      "Pagos realizados antes del StartDate: 0\n",
      "Empty DataFrame\n",
      "Columns: [UserID, PaymentDate, StartDate]\n",
      "Index: []\n"
     ]
    }
   ],
   "source": [
    "# Aseguramos que UserID esté como string en ambos\n",
    "df_payments['UserID'] = df_payments['UserID'].astype(str)\n",
    "df_subs['UserID'] = df_subs['UserID'].astype(str)\n",
    "\n",
    "# Unimos pagos con suscripciones por UserID\n",
    "pagos_con_fecha = pd.merge(df_payments, df_subs[['UserID', 'StartDate']], on='UserID', how='left')\n",
    "\n",
    "# Buscamos pagos realizados antes de la fecha de inicio del plan\n",
    "pagos_antes_de_inicio = pagos_con_fecha[pagos_con_fecha['PaymentDate'] < pagos_con_fecha['StartDate']]\n",
    "\n",
    "# Mostramos resultados\n",
    "print(f\"Pagos realizados antes del StartDate: {len(pagos_antes_de_inicio)}\")\n",
    "print(pagos_antes_de_inicio[['UserID', 'PaymentDate', 'StartDate']].head())\n"
   ]
  },
  {
   "cell_type": "code",
   "execution_count": 20,
   "id": "bc491e92",
   "metadata": {},
   "outputs": [
    {
     "name": "stdout",
     "output_type": "stream",
     "text": [
      "Cancelaciones antes del inicio del plan: 36\n",
      "   UserID  StartDate  ChurnDate\n",
      "2   U0010 2022-10-07 2022-05-18\n",
      "4   U0012 2022-08-26 2022-07-12\n",
      "5   U0017 2022-10-30 2022-09-30\n",
      "7   U0028 2022-07-03 2022-06-16\n",
      "10  U0051 2022-08-11 2022-06-04\n"
     ]
    }
   ],
   "source": [
    "# Asegurar que UserID esté en string\n",
    "df_churn['UserID'] = df_churn['UserID'].astype(str)\n",
    "df_subs['UserID'] = df_subs['UserID'].astype(str)\n",
    "\n",
    "# Unimos churn con suscripciones para obtener el StartDate\n",
    "churn_check = pd.merge(df_churn, df_subs[['UserID', 'StartDate']], on='UserID', how='left')\n",
    "\n",
    "# Detectar casos donde se canceló antes de haber empezado\n",
    "churn_invalido = churn_check[churn_check['ChurnDate'] < churn_check['StartDate']]\n",
    "\n",
    "# Mostrar resultado\n",
    "print(f\"Cancelaciones antes del inicio del plan: {len(churn_invalido)}\")\n",
    "print(churn_invalido[['UserID', 'StartDate', 'ChurnDate']].head())\n"
   ]
  },
  {
   "cell_type": "code",
   "execution_count": 21,
   "id": "95b485e3",
   "metadata": {},
   "outputs": [
    {
     "name": "stdout",
     "output_type": "stream",
     "text": [
      "Registros a eliminar por inconsistencia y sin pagos: 0\n"
     ]
    }
   ],
   "source": [
    "# Paso 1: Obtener último PaymentDate por usuario\n",
    "ultimo_pago = df_payments.groupby('UserID')['PaymentDate'].max().reset_index()\n",
    "ultimo_pago.columns = ['UserID', 'UltimoPago']\n",
    "\n",
    "# Paso 2: Unir churn con StartDate\n",
    "df_churn_corr = df_churn.merge(df_subs[['UserID', 'StartDate']], on='UserID', how='left')\n",
    "\n",
    "# Paso 3: Unir también con último pago\n",
    "df_churn_corr = df_churn_corr.merge(ultimo_pago, on='UserID', how='left')\n",
    "\n",
    "# Paso 4: Marcar usuarios inválidos (Churn antes de Start y sin pagos)\n",
    "churn_invalidos = df_churn_corr[\n",
    "    (df_churn_corr['ChurnDate'] < df_churn_corr['StartDate']) &\n",
    "    (df_churn_corr['UltimoPago'].isnull())\n",
    "]\n",
    "\n",
    "# Mostrar cuántos se eliminarán\n",
    "print(f\"Registros a eliminar por inconsistencia y sin pagos: {len(churn_invalidos)}\")\n",
    "\n",
    "# Paso 5: Filtrar solo válidos\n",
    "df_churn_corr = df_churn_corr[~df_churn_corr['UserID'].isin(churn_invalidos['UserID'])]\n",
    "\n",
    "# Paso 6: Corregir ChurnDate con el último pago si aplica\n",
    "df_churn_corr['ChurnDate'] = df_churn_corr.apply(\n",
    "    lambda row: row['UltimoPago'] if row['ChurnDate'] < row['StartDate'] else row['ChurnDate'],\n",
    "    axis=1\n",
    ")\n",
    "\n",
    "# Paso 7: Limpiar columnas auxiliares\n",
    "df_churn_corr.drop(columns=['StartDate', 'UltimoPago'], inplace=True)\n",
    "\n",
    "# Paso 8: Reemplazar el original\n",
    "df_churn = df_churn_corr.reset_index(drop=True)\n"
   ]
  },
  {
   "cell_type": "code",
   "execution_count": 22,
   "id": "2e850d2b",
   "metadata": {},
   "outputs": [
    {
     "name": "stdout",
     "output_type": "stream",
     "text": [
      "Cancelaciones antes del inicio del plan: 0\n",
      "Empty DataFrame\n",
      "Columns: [UserID, StartDate, ChurnDate]\n",
      "Index: []\n"
     ]
    }
   ],
   "source": [
    "# Asegurar que UserID esté en string\n",
    "df_churn['UserID'] = df_churn['UserID'].astype(str)\n",
    "df_subs['UserID'] = df_subs['UserID'].astype(str)\n",
    "\n",
    "# Unimos churn con suscripciones para obtener el StartDate\n",
    "churn_check = pd.merge(df_churn, df_subs[['UserID', 'StartDate']], on='UserID', how='left')\n",
    "\n",
    "# Detectar casos donde se canceló antes de haber empezado\n",
    "churn_invalido = churn_check[churn_check['ChurnDate'] < churn_check['StartDate']]\n",
    "\n",
    "# Mostrar resultado\n",
    "print(f\"Cancelaciones antes del inicio del plan: {len(churn_invalido)}\")\n",
    "print(churn_invalido[['UserID', 'StartDate', 'ChurnDate']].head())"
   ]
  },
  {
   "cell_type": "code",
   "execution_count": 23,
   "id": "de2f2e98",
   "metadata": {},
   "outputs": [],
   "source": [
    "# Guardar los CSV limpios\n",
    "df_users.to_csv('../data/users_clean.csv', index=False)\n",
    "df_subs.to_csv('../data/subscriptions_clean.csv', index=False)\n",
    "df_payments.to_csv('../data/payments_clean.csv', index=False)\n",
    "df_churn.to_csv('../data/churn_clean.csv', index=False)\n"
   ]
  }
 ],
 "metadata": {
  "kernelspec": {
   "display_name": "venv",
   "language": "python",
   "name": "python3"
  },
  "language_info": {
   "codemirror_mode": {
    "name": "ipython",
    "version": 3
   },
   "file_extension": ".py",
   "mimetype": "text/x-python",
   "name": "python",
   "nbconvert_exporter": "python",
   "pygments_lexer": "ipython3",
   "version": "3.10.4"
  }
 },
 "nbformat": 4,
 "nbformat_minor": 5
}
